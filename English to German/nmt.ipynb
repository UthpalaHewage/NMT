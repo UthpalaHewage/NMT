{
 "cells": [
  {
   "cell_type": "code",
   "execution_count": 1,
   "metadata": {},
   "outputs": [],
   "source": [
    "# Clean Text"
   ]
  },
  {
   "cell_type": "code",
   "execution_count": 2,
   "metadata": {},
   "outputs": [],
   "source": [
    "import string\n",
    "import re\n",
    "from pickle import dump\n",
    "from unicodedata import normalize\n",
    "from numpy import array\n"
   ]
  },
  {
   "cell_type": "code",
   "execution_count": 3,
   "metadata": {},
   "outputs": [],
   "source": [
    "# load doc into memory\n",
    "def load_doc(filename):\n",
    "    # open the file as read only\n",
    "    file = open(filename, mode='rt', encoding='utf-8')\n",
    "    # read all text\n",
    "    text = file.read()\n",
    "    # close the file\n",
    "    file.close()\n",
    "    return text"
   ]
  },
  {
   "cell_type": "code",
   "execution_count": 4,
   "metadata": {},
   "outputs": [],
   "source": [
    "# split a loaded document into sentences\n",
    "def to_pairs(doc):\n",
    "    lines = doc.strip().split('\\n')\n",
    "    pairs = [line.split('\\t') for line in  lines]\n",
    "    return pairs"
   ]
  },
  {
   "cell_type": "code",
   "execution_count": 5,
   "metadata": {},
   "outputs": [],
   "source": [
    "# clean a list of lines\n",
    "def clean_pairs(lines):\n",
    "    cleaned = list()\n",
    "    # prepare regex for char filtering\n",
    "    re_print = re.compile('[^%s]' % re.escape(string.printable))\n",
    "    # prepare translation table for removing punctuation\n",
    "    table = str.maketrans('', '', string.punctuation)\n",
    "    for pair in lines:\n",
    "        clean_pair = list()\n",
    "        for line in pair:\n",
    "            # normalize unicode characters\n",
    "            line = normalize('NFD', line).encode('ascii', 'ignore')\n",
    "            line = line.decode('UTF-8')\n",
    "            # tokenize on white space\n",
    "            line = line.split()\n",
    "            # convert to lowercase\n",
    "            line = [word.lower() for word in line]\n",
    "            # remove punctuation from each token\n",
    "            line = [word.translate(table) for word in line]\n",
    "            # remove non-printable chars form each token\n",
    "            line = [re_print.sub('', w) for w in line]\n",
    "            # remove tokens with numbers in them\n",
    "            line = [word for word in line if word.isalpha()]\n",
    "            # store as string\n",
    "            clean_pair.append(' '.join(line))\n",
    "        cleaned.append(clean_pair)\n",
    "    return array(cleaned)"
   ]
  },
  {
   "cell_type": "code",
   "execution_count": 6,
   "metadata": {},
   "outputs": [],
   "source": [
    "# save a list of clean sentences to file\n",
    "def save_clean_data(sentences, filename):\n",
    "    dump(sentences, open(filename, 'wb'))\n",
    "    print('Saved: %s' % filename)"
   ]
  },
  {
   "cell_type": "code",
   "execution_count": 7,
   "metadata": {},
   "outputs": [
    {
     "name": "stdout",
     "output_type": "stream",
     "text": [
      "Saved: english-german.pkl\n"
     ]
    }
   ],
   "source": [
    "# load dataset\n",
    "filename = 'deu.txt'\n",
    "doc = load_doc(filename)\n",
    "# split into english-german pairs\n",
    "pairs = to_pairs(doc)\n",
    "# clean sentences\n",
    "clean_pairs = clean_pairs(pairs)\n",
    "# save clean pairs to file\n",
    "save_clean_data(clean_pairs, 'english-german.pkl')\n",
    "# spot check"
   ]
  },
  {
   "cell_type": "code",
   "execution_count": 8,
   "metadata": {},
   "outputs": [
    {
     "name": "stdout",
     "output_type": "stream",
     "text": [
      "[hi] => [hallo]\n",
      "[hi] => [gru gott]\n",
      "[run] => [lauf]\n",
      "[wow] => [potzdonner]\n",
      "[wow] => [donnerwetter]\n",
      "[fire] => [feuer]\n",
      "[help] => [hilfe]\n",
      "[help] => [zu hulf]\n",
      "[stop] => [stopp]\n",
      "[wait] => [warte]\n",
      "[go on] => [mach weiter]\n",
      "[hello] => [hallo]\n",
      "[i ran] => [ich rannte]\n",
      "[i see] => [ich verstehe]\n",
      "[i see] => [aha]\n",
      "[i try] => [ich probiere es]\n",
      "[i won] => [ich hab gewonnen]\n",
      "[i won] => [ich habe gewonnen]\n",
      "[smile] => [lacheln]\n",
      "[cheers] => [zum wohl]\n",
      "[eat up] => [iss auf]\n",
      "[freeze] => [keine bewegung]\n",
      "[freeze] => [stehenbleiben]\n",
      "[got it] => [kapiert]\n",
      "[got it] => [verstanden]\n",
      "[got it] => [einverstanden]\n",
      "[he ran] => [er rannte]\n",
      "[he ran] => [er lief]\n",
      "[hop in] => [mach mit]\n",
      "[hug me] => [druck mich]\n",
      "[hug me] => [nimm mich in den arm]\n",
      "[hug me] => [umarme mich]\n",
      "[i fell] => [ich fiel]\n",
      "[i fell] => [ich fiel hin]\n",
      "[i fell] => [ich sturzte]\n",
      "[i fell] => [ich bin hingefallen]\n",
      "[i fell] => [ich bin gesturzt]\n",
      "[i know] => [ich wei]\n",
      "[i lied] => [ich habe gelogen]\n",
      "[i lost] => [ich habe verloren]\n",
      "[i paid] => [ich habe bezahlt]\n",
      "[i paid] => [ich zahlte]\n",
      "[i sang] => [ich sang]\n",
      "[i swim] => [ich schwimme]\n",
      "[im] => [ich bin jahre alt]\n",
      "[im] => [ich bin]\n",
      "[im ok] => [mir gehts gut]\n",
      "[im ok] => [es geht mir gut]\n",
      "[im up] => [ich bin wach]\n",
      "[im up] => [ich bin auf]\n",
      "[no way] => [unmoglich]\n",
      "[no way] => [das kommt nicht in frage]\n",
      "[no way] => [das gibts doch nicht]\n",
      "[no way] => [ausgeschlossen]\n",
      "[no way] => [in keinster weise]\n",
      "[really] => [wirklich]\n",
      "[really] => [echt]\n",
      "[really] => [im ernst]\n",
      "[thanks] => [danke]\n",
      "[try it] => [versuchs]\n",
      "[we try] => [wir versuchen es]\n",
      "[we won] => [wir haben gewonnen]\n",
      "[why me] => [warum ich]\n",
      "[ask tom] => [frag tom]\n",
      "[ask tom] => [fragen sie tom]\n",
      "[ask tom] => [fragt tom]\n",
      "[awesome] => [fantastisch]\n",
      "[be cool] => [entspann dich]\n",
      "[be fair] => [sei nicht ungerecht]\n",
      "[be fair] => [sei fair]\n",
      "[be nice] => [sei nett]\n",
      "[be nice] => [seien sie nett]\n",
      "[beat it] => [geh weg]\n",
      "[beat it] => [hau ab]\n",
      "[beat it] => [verschwinde]\n",
      "[beat it] => [verdufte]\n",
      "[beat it] => [mach dich fort]\n",
      "[beat it] => [zieh leine]\n",
      "[beat it] => [mach dich vom acker]\n",
      "[beat it] => [verzieh dich]\n",
      "[beat it] => [verkrumele dich]\n",
      "[beat it] => [troll dich]\n",
      "[beat it] => [zisch ab]\n",
      "[beat it] => [pack dich]\n",
      "[beat it] => [mach ne fliege]\n",
      "[beat it] => [schwirr ab]\n",
      "[beat it] => [mach die sause]\n",
      "[beat it] => [scher dich weg]\n",
      "[beat it] => [scher dich fort]\n",
      "[call me] => [ruf mich an]\n",
      "[come in] => [komm herein]\n",
      "[come in] => [herein]\n",
      "[come on] => [komm]\n",
      "[come on] => [kommt]\n",
      "[come on] => [mach schon]\n",
      "[come on] => [macht schon]\n",
      "[come on] => [komm schon]\n",
      "[get tom] => [hol tom]\n",
      "[get out] => [raus]\n",
      "[get out] => [geht raus]\n"
     ]
    }
   ],
   "source": [
    "for i in range(100):\n",
    "    print('[%s] => [%s]' % (clean_pairs[i,0], clean_pairs[i,1]))"
   ]
  },
  {
   "cell_type": "code",
   "execution_count": 9,
   "metadata": {},
   "outputs": [
    {
     "data": {
      "text/plain": [
       "200519"
      ]
     },
     "execution_count": 9,
     "metadata": {},
     "output_type": "execute_result"
    }
   ],
   "source": [
    "len(clean_pairs)"
   ]
  },
  {
   "cell_type": "code",
   "execution_count": 10,
   "metadata": {},
   "outputs": [],
   "source": [
    "# Split Text"
   ]
  },
  {
   "cell_type": "code",
   "execution_count": 25,
   "metadata": {},
   "outputs": [
    {
     "name": "stdout",
     "output_type": "stream",
     "text": [
      "Saved: english-german-both.pkl\n",
      "Saved: english-german-train.pkl\n",
      "Saved: english-german-test.pkl\n"
     ]
    }
   ],
   "source": [
    "from pickle import load\n",
    "from pickle import dump\n",
    "from numpy.random import rand\n",
    "from numpy.random import shuffle\n",
    "\n",
    "# load a clean dataset\n",
    "def load_clean_sentences(filename):\n",
    "    return load(open(filename, 'rb'))\n",
    "\n",
    "# save a list of clean sentences to file\n",
    "def save_clean_data(sentences, filename):\n",
    "    dump(sentences, open(filename, 'wb'))\n",
    "    print('Saved: %s' % filename)\n",
    "\n",
    "# load dataset\n",
    "raw_dataset = load_clean_sentences('english-german.pkl')\n",
    "\n",
    "# reduce dataset size\n",
    "n_sentences = 20000\n",
    "dataset = raw_dataset[:n_sentences, :]\n",
    "# random shuffle\n",
    "shuffle(dataset)\n",
    "# split into train/test\n",
    "train, test = dataset[:18000], dataset[18000:]\n",
    "# save\n",
    "save_clean_data(dataset, 'english-german-both.pkl')\n",
    "save_clean_data(train, 'english-german-train.pkl')\n",
    "save_clean_data(test, 'english-german-test.pkl')"
   ]
  },
  {
   "cell_type": "code",
   "execution_count": 26,
   "metadata": {},
   "outputs": [],
   "source": [
    "# Train Neural Translation Model"
   ]
  },
  {
   "cell_type": "code",
   "execution_count": 27,
   "metadata": {},
   "outputs": [],
   "source": [
    "from pickle import load\n",
    "from numpy import array\n",
    "import tensorflow as tf"
   ]
  },
  {
   "cell_type": "code",
   "execution_count": 28,
   "metadata": {},
   "outputs": [],
   "source": [
    "from tensorflow.python.keras.preprocessing.text import Tokenizer\n",
    "from tensorflow.python.keras.preprocessing.sequence import pad_sequences\n",
    "from tensorflow.python.keras.utils import to_categorical\n",
    "from tensorflow.python.keras.utils  import plot_model\n",
    "from tensorflow.python.keras.models import Sequential\n",
    "from tensorflow.python.keras.layers import RepeatVector, Dense, LSTM, Embedding,TimeDistributed\n",
    "from tensorflow.python.keras.callbacks import ModelCheckpoint"
   ]
  },
  {
   "cell_type": "code",
   "execution_count": 29,
   "metadata": {},
   "outputs": [],
   "source": [
    "# load a clean dataset\n",
    "def load_clean_sentences(filename):\n",
    "    return load(open(filename, 'rb'))"
   ]
  },
  {
   "cell_type": "code",
   "execution_count": 30,
   "metadata": {},
   "outputs": [],
   "source": [
    "# fit a tokenizer\n",
    "def create_tokenizer(lines):\n",
    "    tokenizer = Tokenizer()\n",
    "    tokenizer.fit_on_texts(lines)\n",
    "    return tokenizer"
   ]
  },
  {
   "cell_type": "code",
   "execution_count": 31,
   "metadata": {},
   "outputs": [],
   "source": [
    "# max sentence length\n",
    "def max_length(lines):\n",
    "    return max(len(line.split()) for line in lines)"
   ]
  },
  {
   "cell_type": "code",
   "execution_count": 32,
   "metadata": {},
   "outputs": [],
   "source": [
    "# encode and pad sequences\n",
    "def encode_sequences(tokenizer, length, lines):\n",
    "    # integer encode sequences\n",
    "    X = tokenizer.texts_to_sequences(lines)\n",
    "    # pad sequences with 0 values\n",
    "    X = pad_sequences(X, maxlen=length, padding='post')\n",
    "    return X"
   ]
  },
  {
   "cell_type": "code",
   "execution_count": 33,
   "metadata": {},
   "outputs": [],
   "source": [
    "# one hot encode target sequence\n",
    "def encode_output(sequences, vocab_size):\n",
    "    ylist = list()\n",
    "    for sequence in sequences:\n",
    "        encoded = to_categorical(sequence, num_classes=vocab_size)\n",
    "        ylist.append(encoded)\n",
    "    y = array(ylist)\n",
    "    y = y.reshape(sequences.shape[0], sequences.shape[1], vocab_size)\n",
    "    return y"
   ]
  },
  {
   "cell_type": "code",
   "execution_count": 34,
   "metadata": {},
   "outputs": [],
   "source": [
    "# define NMT model\n",
    "def define_model(src_vocab, tar_vocab, src_timesteps, tar_timesteps, n_units):\n",
    "    model = Sequential()\n",
    "    model.add(Embedding(src_vocab, n_units, input_length=src_timesteps, mask_zero=True))\n",
    "    model.add(LSTM(n_units))\n",
    "    model.add(RepeatVector(tar_timesteps))\n",
    "    model.add(LSTM(n_units, return_sequences=True))\n",
    "    model.add(TimeDistributed(Dense(tar_vocab, activation='softmax')))\n",
    "    return model"
   ]
  },
  {
   "cell_type": "code",
   "execution_count": 35,
   "metadata": {},
   "outputs": [],
   "source": [
    "# load datasets\n",
    "dataset = load_clean_sentences('english-german-both.pkl')\n",
    "train = load_clean_sentences('english-german-train.pkl')\n",
    "test = load_clean_sentences('english-german-test.pkl')"
   ]
  },
  {
   "cell_type": "code",
   "execution_count": 36,
   "metadata": {},
   "outputs": [
    {
     "name": "stdout",
     "output_type": "stream",
     "text": [
      "English Vocabulary Size: 3653\n",
      "English Max Length: 5\n"
     ]
    }
   ],
   "source": [
    "# prepare english tokenizer\n",
    "eng_tokenizer = create_tokenizer(dataset[:, 0])\n",
    "eng_vocab_size = len(eng_tokenizer.word_index) + 1\n",
    "# eng_vocab_size = 6000\n",
    "eng_length = max_length(dataset[:, 0])\n",
    "print('English Vocabulary Size: %d' % eng_vocab_size)\n",
    "print('English Max Length: %d' % (eng_length))"
   ]
  },
  {
   "cell_type": "code",
   "execution_count": 37,
   "metadata": {},
   "outputs": [
    {
     "name": "stdout",
     "output_type": "stream",
     "text": [
      "German Vocabulary Size: 5690\n",
      "German Max Length: 10\n"
     ]
    }
   ],
   "source": [
    "# prepare german tokenizer\n",
    "ger_tokenizer = create_tokenizer(dataset[:, 1])\n",
    "ger_vocab_size = len(ger_tokenizer.word_index) + 1\n",
    "# ger_vocab_size = 6000\n",
    "ger_length = max_length(dataset[:, 1])\n",
    "print('German Vocabulary Size: %d' % ger_vocab_size)\n",
    "print('German Max Length: %d' % (ger_length))"
   ]
  },
  {
   "cell_type": "code",
   "execution_count": 38,
   "metadata": {},
   "outputs": [],
   "source": [
    "# prepare training data\n",
    "trainX = encode_sequences(ger_tokenizer, ger_length, train[:, 1])\n",
    "trainY = encode_sequences(eng_tokenizer, eng_length, train[:, 0])\n",
    "trainY = encode_output(trainY, eng_vocab_size)"
   ]
  },
  {
   "cell_type": "code",
   "execution_count": 39,
   "metadata": {},
   "outputs": [],
   "source": [
    "# prepare validation data\n",
    "testX = encode_sequences(ger_tokenizer, ger_length, test[:, 1])\n",
    "testY = encode_sequences(eng_tokenizer, eng_length, test[:, 0])\n",
    "testY = encode_output(testY, eng_vocab_size)"
   ]
  },
  {
   "cell_type": "code",
   "execution_count": 40,
   "metadata": {},
   "outputs": [],
   "source": [
    "# define model\n",
    "model = define_model(ger_vocab_size, eng_vocab_size, ger_length, eng_length, 256)\n",
    "model.compile(optimizer='adam', loss='categorical_crossentropy')"
   ]
  },
  {
   "cell_type": "code",
   "execution_count": 41,
   "metadata": {},
   "outputs": [
    {
     "name": "stdout",
     "output_type": "stream",
     "text": [
      "_________________________________________________________________\n",
      "Layer (type)                 Output Shape              Param #   \n",
      "=================================================================\n",
      "embedding_1 (Embedding)      (None, 10, 256)           1456640   \n",
      "_________________________________________________________________\n",
      "lstm_1 (LSTM)                (None, 256)               525312    \n",
      "_________________________________________________________________\n",
      "repeat_vector_1 (RepeatVecto (None, 5, 256)            0         \n",
      "_________________________________________________________________\n",
      "lstm_2 (LSTM)                (None, None, 256)         525312    \n",
      "_________________________________________________________________\n",
      "time_distributed_1 (TimeDist (None, None, 3653)        938821    \n",
      "=================================================================\n",
      "Total params: 3,446,085\n",
      "Trainable params: 3,446,085\n",
      "Non-trainable params: 0\n",
      "_________________________________________________________________\n",
      "None\n"
     ]
    }
   ],
   "source": [
    "# summarize defined model\n",
    "print(model.summary())\n",
    "# plot_model(model, to_file='model.png', show_shapes=True)"
   ]
  },
  {
   "cell_type": "code",
   "execution_count": 42,
   "metadata": {},
   "outputs": [
    {
     "name": "stdout",
     "output_type": "stream",
     "text": [
      "Train on 18000 samples, validate on 2000 samples\n",
      "Epoch 1/30\n",
      "\n",
      "Epoch 00001: val_loss improved from inf to 3.85774, saving model to model.h5\n",
      " - 63s - loss: 4.1553 - val_loss: 3.8577\n",
      "Epoch 2/30\n",
      "\n",
      "Epoch 00002: val_loss improved from 3.85774 to 3.63825, saving model to model.h5\n",
      " - 62s - loss: 3.6991 - val_loss: 3.6382\n",
      "Epoch 3/30\n",
      "\n",
      "Epoch 00003: val_loss improved from 3.63825 to 3.41706, saving model to model.h5\n",
      " - 61s - loss: 3.4218 - val_loss: 3.4171\n",
      "Epoch 4/30\n",
      "\n",
      "Epoch 00004: val_loss improved from 3.41706 to 3.23192, saving model to model.h5\n",
      " - 63s - loss: 3.1896 - val_loss: 3.2319\n",
      "Epoch 5/30\n",
      "\n",
      "Epoch 00005: val_loss improved from 3.23192 to 3.05903, saving model to model.h5\n",
      " - 63s - loss: 2.9798 - val_loss: 3.0590\n",
      "Epoch 6/30\n",
      "\n",
      "Epoch 00006: val_loss improved from 3.05903 to 2.86902, saving model to model.h5\n",
      " - 61s - loss: 2.7526 - val_loss: 2.8690\n",
      "Epoch 7/30\n",
      "\n",
      "Epoch 00007: val_loss improved from 2.86902 to 2.70950, saving model to model.h5\n",
      " - 61s - loss: 2.5319 - val_loss: 2.7095\n",
      "Epoch 8/30\n",
      "\n",
      "Epoch 00008: val_loss improved from 2.70950 to 2.56272, saving model to model.h5\n",
      " - 61s - loss: 2.3309 - val_loss: 2.5627\n",
      "Epoch 9/30\n",
      "\n",
      "Epoch 00009: val_loss improved from 2.56272 to 2.45022, saving model to model.h5\n",
      " - 61s - loss: 2.1437 - val_loss: 2.4502\n",
      "Epoch 10/30\n",
      "\n",
      "Epoch 00010: val_loss improved from 2.45022 to 2.37574, saving model to model.h5\n",
      " - 60s - loss: 1.9842 - val_loss: 2.3757\n",
      "Epoch 11/30\n",
      "\n",
      "Epoch 00011: val_loss improved from 2.37574 to 2.28769, saving model to model.h5\n",
      " - 60s - loss: 1.8327 - val_loss: 2.2877\n",
      "Epoch 12/30\n",
      "\n",
      "Epoch 00012: val_loss improved from 2.28769 to 2.21166, saving model to model.h5\n",
      " - 60s - loss: 1.6938 - val_loss: 2.2117\n",
      "Epoch 13/30\n",
      "\n",
      "Epoch 00013: val_loss improved from 2.21166 to 2.16631, saving model to model.h5\n",
      " - 60s - loss: 1.5599 - val_loss: 2.1663\n",
      "Epoch 14/30\n",
      "\n",
      "Epoch 00014: val_loss improved from 2.16631 to 2.10610, saving model to model.h5\n",
      " - 60s - loss: 1.4334 - val_loss: 2.1061\n",
      "Epoch 15/30\n",
      "\n",
      "Epoch 00015: val_loss improved from 2.10610 to 2.03919, saving model to model.h5\n",
      " - 60s - loss: 1.3128 - val_loss: 2.0392\n",
      "Epoch 16/30\n",
      "\n",
      "Epoch 00016: val_loss improved from 2.03919 to 1.99987, saving model to model.h5\n",
      " - 60s - loss: 1.2032 - val_loss: 1.9999\n",
      "Epoch 17/30\n",
      "\n",
      "Epoch 00017: val_loss improved from 1.99987 to 1.95038, saving model to model.h5\n",
      " - 61s - loss: 1.0967 - val_loss: 1.9504\n",
      "Epoch 18/30\n",
      "\n",
      "Epoch 00018: val_loss improved from 1.95038 to 1.91469, saving model to model.h5\n",
      " - 60s - loss: 0.9994 - val_loss: 1.9147\n",
      "Epoch 19/30\n",
      "\n",
      "Epoch 00019: val_loss improved from 1.91469 to 1.88951, saving model to model.h5\n",
      " - 60s - loss: 0.9088 - val_loss: 1.8895\n",
      "Epoch 20/30\n",
      "\n",
      "Epoch 00020: val_loss improved from 1.88951 to 1.86307, saving model to model.h5\n",
      " - 60s - loss: 0.8280 - val_loss: 1.8631\n",
      "Epoch 21/30\n",
      "\n",
      "Epoch 00021: val_loss improved from 1.86307 to 1.85122, saving model to model.h5\n",
      " - 60s - loss: 0.7515 - val_loss: 1.8512\n",
      "Epoch 22/30\n",
      "\n",
      "Epoch 00022: val_loss improved from 1.85122 to 1.82571, saving model to model.h5\n",
      " - 60s - loss: 0.6843 - val_loss: 1.8257\n",
      "Epoch 23/30\n",
      "\n",
      "Epoch 00023: val_loss improved from 1.82571 to 1.81242, saving model to model.h5\n",
      " - 60s - loss: 0.6226 - val_loss: 1.8124\n",
      "Epoch 24/30\n",
      "\n",
      "Epoch 00024: val_loss did not improve\n",
      " - 60s - loss: 0.5692 - val_loss: 1.8221\n",
      "Epoch 25/30\n",
      "\n",
      "Epoch 00025: val_loss improved from 1.81242 to 1.80176, saving model to model.h5\n",
      " - 60s - loss: 0.5200 - val_loss: 1.8018\n",
      "Epoch 26/30\n",
      "\n",
      "Epoch 00026: val_loss improved from 1.80176 to 1.79287, saving model to model.h5\n",
      " - 59s - loss: 0.4796 - val_loss: 1.7929\n",
      "Epoch 27/30\n",
      "\n",
      "Epoch 00027: val_loss did not improve\n",
      " - 59s - loss: 0.4430 - val_loss: 1.8047\n",
      "Epoch 28/30\n",
      "\n",
      "Epoch 00028: val_loss did not improve\n",
      " - 59s - loss: 0.4129 - val_loss: 1.8370\n",
      "Epoch 29/30\n",
      "\n",
      "Epoch 00029: val_loss did not improve\n",
      " - 59s - loss: 0.3812 - val_loss: 1.7959\n",
      "Epoch 30/30\n",
      "\n",
      "Epoch 00030: val_loss did not improve\n",
      " - 59s - loss: 0.3514 - val_loss: 1.8018\n"
     ]
    },
    {
     "data": {
      "text/plain": [
       "<tensorflow.python.keras._impl.keras.callbacks.History at 0x21abb91b828>"
      ]
     },
     "execution_count": 42,
     "metadata": {},
     "output_type": "execute_result"
    }
   ],
   "source": [
    "# fit model\n",
    "filename = 'model.h5'\n",
    "checkpoint = ModelCheckpoint(filename, monitor='val_loss', verbose=1, save_best_only=True, mode='min')\n",
    "model.fit(trainX, trainY, epochs=30, batch_size=64, validation_data=(testX, testY), callbacks=[checkpoint], verbose=2)"
   ]
  },
  {
   "cell_type": "code",
   "execution_count": null,
   "metadata": {},
   "outputs": [],
   "source": []
  },
  {
   "cell_type": "code",
   "execution_count": 43,
   "metadata": {},
   "outputs": [],
   "source": [
    "# Evaluate Neural Translation Model"
   ]
  },
  {
   "cell_type": "code",
   "execution_count": 44,
   "metadata": {},
   "outputs": [],
   "source": [
    "from pickle import load\n",
    "from numpy import array\n",
    "from numpy import argmax\n",
    "from tensorflow.python.keras.models import load_model\n",
    "import nltk\n",
    "from nltk.translate.bleu_score import corpus_bleu"
   ]
  },
  {
   "cell_type": "code",
   "execution_count": 45,
   "metadata": {},
   "outputs": [],
   "source": [
    "# load a clean dataset\n",
    "def load_clean_sentences(filename):\n",
    "    return load(open(filename, 'rb'))"
   ]
  },
  {
   "cell_type": "code",
   "execution_count": 46,
   "metadata": {},
   "outputs": [],
   "source": [
    "# fit a tokenizer\n",
    "def create_tokenizer(lines):\n",
    "    tokenizer = Tokenizer()\n",
    "    tokenizer.fit_on_texts(lines)\n",
    "    return tokenizer"
   ]
  },
  {
   "cell_type": "code",
   "execution_count": 47,
   "metadata": {},
   "outputs": [],
   "source": [
    "# max sentence length\n",
    "def max_length(lines):\n",
    "    return max(len(line.split()) for line in lines)"
   ]
  },
  {
   "cell_type": "code",
   "execution_count": 48,
   "metadata": {},
   "outputs": [],
   "source": [
    "# encode and pad sequences\n",
    "def encode_sequences(tokenizer, length, lines):\n",
    "    # integer encode sequences\n",
    "    X = tokenizer.texts_to_sequences(lines)\n",
    "    # pad sequences with 0 values\n",
    "    X = pad_sequences(X, maxlen=length, padding='post')\n",
    "    return X"
   ]
  },
  {
   "cell_type": "code",
   "execution_count": 49,
   "metadata": {},
   "outputs": [],
   "source": [
    "# map an integer to a word\n",
    "def word_for_id(integer, tokenizer):\n",
    "    for word, index in tokenizer.word_index.items():\n",
    "        if index == integer:\n",
    "            return word\n",
    "    return None"
   ]
  },
  {
   "cell_type": "code",
   "execution_count": 50,
   "metadata": {},
   "outputs": [],
   "source": [
    "# generate target given source sequence\n",
    "def predict_sequence(model, tokenizer, source):\n",
    "    prediction = model.predict(source, verbose=0)[0]\n",
    "    integers = [argmax(vector) for vector in prediction]\n",
    "    target = list()\n",
    "    for i in integers:\n",
    "        word = word_for_id(i, tokenizer)\n",
    "        if word is None:\n",
    "            break\n",
    "        target.append(word)\n",
    "    return ' '.join(target)"
   ]
  },
  {
   "cell_type": "code",
   "execution_count": 51,
   "metadata": {},
   "outputs": [],
   "source": [
    "# evaluate the skill of the model\n",
    "def evaluate_model(model, tokenizer, sources, raw_dataset):\n",
    "    actual, predicted = list(), list()\n",
    "    for i, source in enumerate(sources):\n",
    "        # translate encoded source text\n",
    "        source = source.reshape((1, source.shape[0]))\n",
    "        translation = predict_sequence(model, eng_tokenizer, source)\n",
    "        raw_target, raw_src,test = raw_dataset[i]\n",
    "        if i < 50:\n",
    "            print('src=[%s], target=[%s], predicted=[%s]' % (raw_src, raw_target, translation))\n",
    "        actual.append([raw_target.split()])\n",
    "        predicted.append(translation.split())\n",
    "    # calculate BLEU score\n",
    "    print('BLEU-1: %f' % corpus_bleu(actual, predicted, weights=(1.0, 0, 0, 0)))\n",
    "    print('BLEU-2: %f' % corpus_bleu(actual, predicted, weights=(0.5, 0.5, 0, 0)))\n",
    "    print('BLEU-3: %f' % corpus_bleu(actual, predicted, weights=(0.3, 0.3, 0.3, 0)))\n",
    "    print('BLEU-4: %f' % corpus_bleu(actual, predicted, weights=(0.25, 0.25, 0.25, 0.25)))"
   ]
  },
  {
   "cell_type": "code",
   "execution_count": 52,
   "metadata": {},
   "outputs": [],
   "source": [
    "# load datasets\n",
    "dataset = load_clean_sentences('english-german-both.pkl')\n",
    "train = load_clean_sentences('english-german-train.pkl')\n",
    "test = load_clean_sentences('english-german-test.pkl')"
   ]
  },
  {
   "cell_type": "code",
   "execution_count": 53,
   "metadata": {},
   "outputs": [],
   "source": [
    "# prepare english tokenizer\n",
    "eng_tokenizer = create_tokenizer(dataset[:, 0])\n",
    "eng_vocab_size = len(eng_tokenizer.word_index) + 1\n",
    "eng_length = max_length(dataset[:, 0])"
   ]
  },
  {
   "cell_type": "code",
   "execution_count": 54,
   "metadata": {},
   "outputs": [],
   "source": [
    "# prepare german tokenizer\n",
    "ger_tokenizer = create_tokenizer(dataset[:, 1])\n",
    "ger_vocab_size = len(ger_tokenizer.word_index) + 1\n",
    "ger_length = max_length(dataset[:, 1])"
   ]
  },
  {
   "cell_type": "code",
   "execution_count": 55,
   "metadata": {},
   "outputs": [],
   "source": [
    "# prepare data\n",
    "trainX = encode_sequences(ger_tokenizer, ger_length, train[:, 1])\n",
    "testX = encode_sequences(ger_tokenizer, ger_length, test[:, 1])"
   ]
  },
  {
   "cell_type": "code",
   "execution_count": 56,
   "metadata": {},
   "outputs": [],
   "source": [
    "# load model\n",
    "model = load_model('model.h5')"
   ]
  },
  {
   "cell_type": "code",
   "execution_count": 57,
   "metadata": {},
   "outputs": [
    {
     "name": "stdout",
     "output_type": "stream",
     "text": [
      "train\n",
      "src=[habe ich gewonnen], target=[did i win], predicted=[did i have]\n",
      "src=[tom ist ein verlierer], target=[tom is a loser], predicted=[tom is a loser]\n",
      "src=[es ist dieses buch], target=[its this book], predicted=[its this book]\n",
      "src=[tom verfolgte maria], target=[tom chased mary], predicted=[tom chased mary]\n",
      "src=[komm schnell], target=[come quickly], predicted=[come quickly]\n",
      "src=[tom hat mich dazu gebracht zu gehen], target=[tom made me go], predicted=[tom made me go]\n",
      "src=[du bist besturzt], target=[youre upset], predicted=[youre upset]\n",
      "src=[er hat dich hintergangen], target=[he betrayed you], predicted=[he betrayed you]\n",
      "src=[ich kann fahrrad fahren], target=[i can ride a bike], predicted=[i can get a bike]\n",
      "src=[ich hab die fernstrae genommen], target=[i took highway], predicted=[i took highway]\n",
      "src=[jetzt nicht bewegen], target=[now dont move], predicted=[you dont move]\n",
      "src=[es ist eine regel], target=[its a rule], predicted=[its a rule]\n",
      "src=[das sah ich kommen], target=[i saw that coming], predicted=[i saw that coming]\n",
      "src=[offne die augen], target=[open your eyes], predicted=[open your eyes]\n",
      "src=[immer mit der ruhe], target=[take it easy], predicted=[take the easy]\n",
      "src=[es geht mir gut], target=[im okay], predicted=[i am fine]\n",
      "src=[versucht nicht zu fallen], target=[try not to fall], predicted=[try be to fall]\n",
      "src=[tom war neugierig], target=[tom was curious], predicted=[tom was curious]\n",
      "src=[sie war naiv], target=[she was naive], predicted=[she was naive]\n",
      "src=[es konnte wahr sein], target=[it may be true], predicted=[it may be true]\n",
      "src=[uberlass es ihm], target=[let him do it], predicted=[let it find it]\n",
      "src=[tom ist hasslich], target=[toms ugly], predicted=[toms ugly ugly]\n",
      "src=[ich offnete die tur], target=[i opened the door], predicted=[i opened the door]\n",
      "src=[komm sieh es dir an], target=[come take a look], predicted=[come on a it]\n",
      "src=[halte es so], target=[hold it like this], predicted=[hold that like]\n",
      "src=[ich hoffe dass tom gewinnt], target=[i hope tom wins], predicted=[i hope tom wins]\n",
      "src=[hat tom es dir gesagt], target=[did tom tell you], predicted=[did tom say you]\n",
      "src=[sie laufen], target=[you run], predicted=[you run]\n",
      "src=[tom fuhlte sich traurig], target=[tom felt sad], predicted=[tom felt sad]\n",
      "src=[tom war auer sich], target=[tom was mad], predicted=[tom was mad]\n",
      "src=[du siehst dumm aus], target=[you look stupid], predicted=[you look stupid]\n",
      "src=[ich lebe allein], target=[i live alone], predicted=[i live alone]\n",
      "src=[ich wei wie sie heien], target=[i know your name], predicted=[i know your name]\n",
      "src=[mach dich bettfertig], target=[get ready for bed], predicted=[get for a me]\n",
      "src=[ich bin chinesin], target=[i am chinese], predicted=[i am chinese]\n",
      "src=[tom beharrte], target=[tom insisted], predicted=[tom insisted]\n",
      "src=[du kannst mir vertrauen], target=[you can trust me], predicted=[you can like me]\n",
      "src=[ich mag dich auch], target=[i like you too], predicted=[i love you too]\n",
      "src=[ich mag die kalte], target=[i like the cold], predicted=[i like the cold]\n",
      "src=[tom verliert nicht], target=[tom isnt losing], predicted=[tom isnt losing]\n",
      "src=[wir sind etwas spat dran], target=[were a bit late], predicted=[were a bit]\n",
      "src=[tom wird nicht warten], target=[tom wont wait], predicted=[tom wont wait]\n",
      "src=[der sommer ist voruber], target=[summer is over], predicted=[summer is over]\n",
      "src=[tom wurde weinen], target=[tom would cry], predicted=[tom would cry]\n",
      "src=[ich fiel], target=[i fell], predicted=[i fell]\n",
      "src=[ich kenne kein erbarmen], target=[im ruthless], predicted=[i had no cold]\n",
      "src=[tom ist nicht unhoflich], target=[tom isnt rude], predicted=[tom isnt rude]\n",
      "src=[ich muss es wissen], target=[ive got to know], predicted=[i must to know]\n",
      "src=[geht es euch beiden gut], target=[are you two ok], predicted=[are you all ok]\n",
      "src=[da sind wir], target=[here we are], predicted=[here we are]\n",
      "BLEU-1: 0.868402\n",
      "BLEU-2: 0.812520\n",
      "BLEU-3: 0.753736\n",
      "BLEU-4: 0.523476\n"
     ]
    }
   ],
   "source": [
    "# test on some training sequences\n",
    "print('train')\n",
    "evaluate_model(model, eng_tokenizer, trainX, train)"
   ]
  },
  {
   "cell_type": "code",
   "execution_count": 58,
   "metadata": {},
   "outputs": [
    {
     "name": "stdout",
     "output_type": "stream",
     "text": [
      "test\n",
      "src=[uns ist hei], target=[were hot], predicted=[its hot]\n",
      "src=[guten tag], target=[good afternoon], predicted=[a a nice]\n",
      "src=[ich bade jeden tag], target=[i bathe every day], predicted=[i bathe every day day]\n",
      "src=[er gab nach], target=[he relented], predicted=[he gave himself]\n",
      "src=[bist du kunstlerisch veranlagt], target=[are you artistic], predicted=[are you dangerous]\n",
      "src=[tom applaudierte], target=[tom applauded], predicted=[tom is]\n",
      "src=[tom schien hart zu sein], target=[tom seemed tough], predicted=[tom seemed smart]\n",
      "src=[tom schrieb weiter], target=[tom kept writing], predicted=[tom kept yelling]\n",
      "src=[kommt esst mit uns], target=[come eat with us], predicted=[come and with us]\n",
      "src=[die farben gefallen mir], target=[i like the colors], predicted=[i like me]\n",
      "src=[ich wei es jetzt], target=[i know now], predicted=[i know it again]\n",
      "src=[ich mochte zuschauen], target=[i want to watch], predicted=[i want to]\n",
      "src=[ich bin sehr schnell], target=[im really fast], predicted=[im very fast]\n",
      "src=[ich habe keinen beweis], target=[i have no proof], predicted=[i have no proof]\n",
      "src=[tom war ausgegangen], target=[tom was out], predicted=[tom was in]\n",
      "src=[ich sehe nicht sehr gut], target=[i cant see well], predicted=[i dont be busy]\n",
      "src=[schau uns an], target=[look at us], predicted=[look us]\n",
      "src=[wir konnen beginnen], target=[we can begin], predicted=[we can begin]\n",
      "src=[tom war begeistert], target=[tom was thrilled], predicted=[tom was ecstatic]\n",
      "src=[tom war voreingenommen], target=[tom was biased], predicted=[tom felt biased]\n",
      "src=[tom ist ein trinker], target=[tom is a drunk], predicted=[tom is a jerk]\n",
      "src=[okay ich bin einverstanden], target=[ok i agree], predicted=[ok i agree]\n",
      "src=[ich werde leben], target=[ill live], predicted=[ill live here]\n",
      "src=[ich kann ihnen keinen vorwurf machen], target=[i cant blame you], predicted=[i cant blame you]\n",
      "src=[ich werde vorsichtig sein], target=[ill be careful], predicted=[ill be nice]\n",
      "src=[ich lachelte einfach], target=[i just smiled], predicted=[i just out]\n",
      "src=[lugt mich nicht an], target=[dont lie to me], predicted=[dont touch me me]\n",
      "src=[sag ihm dass er warten soll], target=[tell him to wait], predicted=[tell tell cry]\n",
      "src=[ich wurde es gerne machen], target=[id love to do it], predicted=[id know it try]\n",
      "src=[gebt mehr wasser dazu], target=[add more water], predicted=[add some water]\n",
      "src=[tom redet viel], target=[tom talks a lot], predicted=[tom eats a lot]\n",
      "src=[sie sind piloten], target=[they are pilots], predicted=[theyre are]\n",
      "src=[tom bog rechts ab], target=[tom turned right], predicted=[tom was left]\n",
      "src=[alle sind da], target=[all are present], predicted=[everybodys there]\n",
      "src=[ich habe ein buch], target=[i have a book], predicted=[i bought a book]\n",
      "src=[wir haben es gesehen], target=[we saw it], predicted=[weve saw it]\n",
      "src=[haltet euch warm], target=[keep warm], predicted=[keep warm]\n",
      "src=[ich mag suigkeiten], target=[i like candy], predicted=[i like sweets]\n",
      "src=[wahlen sie mit bedacht], target=[choose carefully], predicted=[choose carefully]\n",
      "src=[bist du tourist], target=[are you a tourist], predicted=[are you a tourist]\n",
      "src=[ich war allein], target=[i was alone], predicted=[i was alone]\n",
      "src=[frage den polizisten], target=[ask the policeman], predicted=[ask the fence]\n",
      "src=[ich folge tom], target=[im following tom], predicted=[i helping tom]\n",
      "src=[ich zeige es ihnen], target=[ill show you], predicted=[ill help you]\n",
      "src=[tom wird arbeiten], target=[tom will work], predicted=[tom will work]\n",
      "src=[sie werden sich verlaufen], target=[youll get lost], predicted=[theyll be]\n",
      "src=[so viel dachte ich mir], target=[i thought as much], predicted=[i like my idea]\n",
      "src=[dies ist ein hund], target=[this is a dog], predicted=[this is a dog]\n",
      "src=[ich mochte ein neues fahrrad], target=[i want a new bike], predicted=[i want a new bike]\n",
      "src=[tom war unglaublich], target=[tom was amazing], predicted=[tom was annoying]\n",
      "BLEU-1: 0.599956\n",
      "BLEU-2: 0.477455\n",
      "BLEU-3: 0.403239\n",
      "BLEU-4: 0.238087\n"
     ]
    }
   ],
   "source": [
    "print('test')\n",
    "evaluate_model(model, eng_tokenizer, testX, test)"
   ]
  },
  {
   "cell_type": "code",
   "execution_count": 66,
   "metadata": {},
   "outputs": [
    {
     "name": "stdout",
     "output_type": "stream",
     "text": [
      "['is that blue' 'ist das blau'\n",
      " 'ccby france attribution tatoebaorg shekitten esperantostern']\n"
     ]
    }
   ],
   "source": [
    "print(train[1])"
   ]
  },
  {
   "cell_type": "code",
   "execution_count": 67,
   "metadata": {},
   "outputs": [],
   "source": [
    "  raw_target, raw_src,test = test[1]"
   ]
  },
  {
   "cell_type": "code",
   "execution_count": 68,
   "metadata": {},
   "outputs": [
    {
     "name": "stdout",
     "output_type": "stream",
     "text": [
      "The nltk version is 3.4.5.\n"
     ]
    }
   ],
   "source": [
    "print('The nltk version is {}.'.format(nltk.__version__))"
   ]
  },
  {
   "cell_type": "code",
   "execution_count": null,
   "metadata": {},
   "outputs": [],
   "source": [
    "evaluate_model(model, eng_tokenizer, testX, test)"
   ]
  }
 ],
 "metadata": {
  "kernelspec": {
   "display_name": "Python 3",
   "language": "python",
   "name": "python3"
  },
  "language_info": {
   "codemirror_mode": {
    "name": "ipython",
    "version": 3
   },
   "file_extension": ".py",
   "mimetype": "text/x-python",
   "name": "python",
   "nbconvert_exporter": "python",
   "pygments_lexer": "ipython3",
   "version": "3.6.4"
  }
 },
 "nbformat": 4,
 "nbformat_minor": 2
}
